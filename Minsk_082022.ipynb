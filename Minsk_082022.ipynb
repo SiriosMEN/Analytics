{
  "nbformat": 4,
  "nbformat_minor": 0,
  "metadata": {
    "colab": {
      "name": "Minsk_082022.ipynb",
      "provenance": [],
      "collapsed_sections": [],
      "mount_file_id": "1nuLrkgm-KEH0PFr5tuB_QJxDjIYlKcjV",
      "authorship_tag": "ABX9TyPjfRs4feeawuh1jSjdOyRz",
      "include_colab_link": true
    },
    "kernelspec": {
      "name": "python3",
      "display_name": "Python 3"
    },
    "language_info": {
      "name": "python"
    }
  },
  "cells": [
    {
      "cell_type": "markdown",
      "metadata": {
        "id": "view-in-github",
        "colab_type": "text"
      },
      "source": [
        "<a href=\"https://colab.research.google.com/github/SiriosMEN/Analytics/blob/main/Minsk_082022.ipynb\" target=\"_parent\"><img src=\"https://colab.research.google.com/assets/colab-badge.svg\" alt=\"Open In Colab\"/></a>"
      ]
    },
    {
      "cell_type": "code",
      "execution_count": null,
      "metadata": {
        "id": "DiB3NqHDpvDh"
      },
      "outputs": [],
      "source": [
        "import pandas as pd\n",
        "import plotly.graph_objects as go\n"
      ]
    },
    {
      "cell_type": "code",
      "source": [
        "data = pd.read_excel('/content/drive/MyDrive/Colab Notebooks/Minsk_082022/archive.xlsx',parse_dates=[0])"
      ],
      "metadata": {
        "id": "v3gpDdUu39Zr"
      },
      "execution_count": null,
      "outputs": []
    },
    {
      "cell_type": "code",
      "source": [
        "data.info()"
      ],
      "metadata": {
        "colab": {
          "base_uri": "https://localhost:8080/"
        },
        "id": "LORStyB94FsR",
        "outputId": "a6afe679-46c3-403f-e6b3-7afaaac5ab2d"
      },
      "execution_count": null,
      "outputs": [
        {
          "output_type": "stream",
          "name": "stdout",
          "text": [
            "<class 'pandas.core.frame.DataFrame'>\n",
            "RangeIndex: 53958 entries, 0 to 53957\n",
            "Columns: 102 entries, ВИБР В ПЕР ПДШ ТГ-7 Time to ЧАСТ СЕТИ ValueY\n",
            "dtypes: datetime64[ns](51), float64(51)\n",
            "memory usage: 42.0 MB\n"
          ]
        }
      ]
    },
    {
      "cell_type": "code",
      "source": [
        "for i in range(len(data.columns)):\n",
        "  print (i, data.columns[i])"
      ],
      "metadata": {
        "colab": {
          "base_uri": "https://localhost:8080/"
        },
        "id": "TQ_QjLAsc5P4",
        "outputId": "d25647ba-1788-4e12-d0e3-483db2912541"
      },
      "execution_count": null,
      "outputs": [
        {
          "output_type": "stream",
          "name": "stdout",
          "text": [
            "0 ВИБР В ПЕР ПДШ ТГ-7 Time\n",
            "1 ВИБР В ПЕР ПДШ ТГ-7 ValueY\n",
            "2 ВИБР П ПЕР ПДШ ТГ-7 Time\n",
            "3 ВИБР П ПЕР ПДШ ТГ-7 ValueY\n",
            "4 ВИБР О ПЕР ПДШ ТГ-7 Time\n",
            "5 ВИБР О ПЕР ПДШ ТГ-7 ValueY\n",
            "6 ВИБР ВАЛ ПЕР ПДШ ЦВД ТГ-7 Т.1 Time\n",
            "7 ВИБР ВАЛ ПЕР ПДШ ЦВД ТГ-7 Т.1 ValueY\n",
            "8 ВИБР ВАЛ ПЕР ПДШ ЦВД ТГ-7 Т.2 Time\n",
            "9 ВИБР ВАЛ ПЕР ПДШ ЦВД ТГ-7 Т.2 ValueY\n",
            "10 ВИБР В О УП ПДШ ТГ-7 Time\n",
            "11 ВИБР В О УП ПДШ ТГ-7 ValueY\n",
            "12 ВИБР П О УП ПДШ ТГ-7 Time\n",
            "13 ВИБР П О УП ПДШ ТГ-7 ValueY\n",
            "14 ВИБР О О УП ПДШ ТГ-7 Time\n",
            "15 ВИБР О О УП ПДШ ТГ-7 ValueY\n",
            "16 ВИБР ВАЛА О УП ПДШ ТГ-7 Т.1 Time\n",
            "17 ВИБР ВАЛА О УП ПДШ ТГ-7 Т.1 ValueY\n",
            "18 ВИБР ВАЛА О УП ПДШ ТГ-7 Т.2 Time\n",
            "19 ВИБР ВАЛА О УП ПДШ ТГ-7 Т.2 ValueY\n",
            "20 ВИБР В ПЕР ПДШ ЦСД ТГ-7 Time\n",
            "21 ВИБР В ПЕР ПДШ ЦСД ТГ-7 ValueY\n",
            "22 ВИБР П ПЕР ПДШ ЦСД ТГ-7 Time\n",
            "23 ВИБР П ПЕР ПДШ ЦСД ТГ-7 ValueY\n",
            "24 ВИБР О ПЕР ПДШ ЦСД ТГ-7 Time\n",
            "25 ВИБР О ПЕР ПДШ ЦСД ТГ-7 ValueY\n",
            "26 ВИБР ВАЛ ПЕР ПДШ ЦСД ТГ-7 Т.1 Time\n",
            "27 ВИБР ВАЛ ПЕР ПДШ ЦСД ТГ-7 Т.1 ValueY\n",
            "28 ВИБР ВАЛ ПЕР ПДШ ЦСД ТГ-7 Т.2 Time\n",
            "29 ВИБР ВАЛ ПЕР ПДШ ЦСД ТГ-7 Т.2 ValueY\n",
            "30 ВИБР В ЗАДН ПДШ ЦСД ТГ-7 Time\n",
            "31 ВИБР В ЗАДН ПДШ ЦСД ТГ-7 ValueY\n",
            "32 ВИБР П ЗАДН ПДШ ЦСД ТГ-7 Time\n",
            "33 ВИБР П ЗАДН ПДШ ЦСД ТГ-7 ValueY\n",
            "34 ВИБР О ЗАДН ПДШ ЦСД ТГ-7 Time\n",
            "35 ВИБР О ЗАДН ПДШ ЦСД ТГ-7 ValueY\n",
            "36 ВИБР ВАЛ ЗАДН ПДШ ЦСД ТГ-7 Т.1 Time\n",
            "37 ВИБР ВАЛ ЗАДН ПДШ ЦСД ТГ-7 Т.1 ValueY\n",
            "38 ВИБР ВАЛ ЗАДН ПДШ ЦСД ТГ-7 Т.2 Time\n",
            "39 ВИБР ВАЛ ЗАДН ПДШ ЦСД ТГ-7 Т.2 ValueY\n",
            "40 ВИБР В ПЕР ПДШ ЦНД ТГ-7 Time\n",
            "41 ВИБР В ПЕР ПДШ ЦНД ТГ-7 ValueY\n",
            "42 ВИБР П ПЕР ПДШ ЦНД ТГ-7 Time\n",
            "43 ВИБР П ПЕР ПДШ ЦНД ТГ-7 ValueY\n",
            "44 ВИБР О ПЕР ПДШ ЦНД ТГ-7 Time\n",
            "45 ВИБР О ПЕР ПДШ ЦНД ТГ-7 ValueY\n",
            "46 ВИБР ВАЛ ПЕР ПДШ ЦНД ТГ-7 Т.1 Time\n",
            "47 ВИБР ВАЛ ПЕР ПДШ ЦНД ТГ-7 Т.1 ValueY\n",
            "48 ВИБР ВАЛ ПЕР ПДШ ЦНД ТГ-7 Т.2 Time\n",
            "49 ВИБР ВАЛ ПЕР ПДШ ЦНД ТГ-7 Т.2 ValueY\n",
            "50 ВИБР В ЗАДН ПДШ ЦНД ТГ-7 Time\n",
            "51 ВИБР В ЗАДН ПДШ ЦНД ТГ-7 ValueY\n",
            "52 ВИБР П ЗАДН ПДШ ЦНД ТГ-7 Time\n",
            "53 ВИБР П ЗАДН ПДШ ЦНД ТГ-7 ValueY\n",
            "54 ВИБР О ЗАДН ПДШ ЦНД ТГ-7 Time\n",
            "55 ВИБР О ЗАДН ПДШ ЦНД ТГ-7 ValueY\n",
            "56 ВИБР ВАЛ ЗАДН ПДШ ЦНД ТГ-7 Т.1 Time\n",
            "57 ВИБР ВАЛ ЗАДН ПДШ ЦНД ТГ-7 Т.1 ValueY\n",
            "58 ВИБР ВАЛ ЗАДН ПДШ ЦНД ТГ-7 Т.2 Time\n",
            "59 ВИБР ВАЛ ЗАДН ПДШ ЦНД ТГ-7 Т.2 ValueY\n",
            "60 ВИБР В ПЕР ПДШ Г-7 Time\n",
            "61 ВИБР В ПЕР ПДШ Г-7 ValueY\n",
            "62 ВИБР П ПЕР ПДШ Г-7 Time\n",
            "63 ВИБР П ПЕР ПДШ Г-7 ValueY\n",
            "64 ВИБР О ПЕР ПДШ Г-7 Time\n",
            "65 ВИБР О ПЕР ПДШ Г-7 ValueY\n",
            "66 ВИБР ВАЛ ПЕР ПДШ Г-7 Т.1 Time\n",
            "67 ВИБР ВАЛ ПЕР ПДШ Г-7 Т.1 ValueY\n",
            "68 ВИБР ВАЛ ПЕР ПДШ Г-7 Т.2 Time\n",
            "69 ВИБР ВАЛ ПЕР ПДШ Г-7 Т.2 ValueY\n",
            "70 ВИБР В ЗАДН ПДШ Г-7 Time\n",
            "71 ВИБР В ЗАДН ПДШ Г-7 ValueY\n",
            "72 ВИБР П ЗАДН ПДШ Г-7 Time\n",
            "73 ВИБР П ЗАДН ПДШ Г-7 ValueY\n",
            "74 ВИБР О ЗАДН ПДШ Г-7 Time\n",
            "75 ВИБР О ЗАДН ПДШ Г-7 ValueY\n",
            "76 ВИБР ВАЛ ЗАДН ПДШ Г-7 Т.1 Time\n",
            "77 ВИБР ВАЛ ЗАДН ПДШ Г-7 Т.1 ValueY\n",
            "78 ВИБР ВАЛ ЗАДН ПДШ Г-7 Т.2 Time\n",
            "79 ВИБР ВАЛ ЗАДН ПДШ Г-7 Т.2 ValueY\n",
            "80 T МСЛ СМАЗКИ ПДШ ТГ-7 Т.1 Time\n",
            "81 T МСЛ СМАЗКИ ПДШ ТГ-7 Т.1 ValueY\n",
            "82 T МСЛ СМАЗКИ ПДШ ТГ-7 Т.2 Time\n",
            "83 T МСЛ СМАЗКИ ПДШ ТГ-7 Т.2 ValueY\n",
            "84 T МСЛ СМАЗКИ ПДШ ТГ-7 Т.3 Time\n",
            "85 T МСЛ СМАЗКИ ПДШ ТГ-7 Т.3 ValueY\n",
            "86 T МСЛ СМАЗКИ ПДШ ТГ-7 Time\n",
            "87 T МСЛ СМАЗКИ ПДШ ТГ-7 ValueY\n",
            "88 T МСЛ СЛИВ ПЕР ПДШ Г-7 Time\n",
            "89 T МСЛ СЛИВ ПЕР ПДШ Г-7 ValueY\n",
            "90 ЧАСТОТА ВРАЩЕНИЯ ТГ-7 Т.1 Time\n",
            "91 ЧАСТОТА ВРАЩЕНИЯ ТГ-7 Т.1 ValueY\n",
            "92 ЧАСТОТА ВРАЩЕНИЯ ТГ-7 Т.2 Time\n",
            "93 ЧАСТОТА ВРАЩЕНИЯ ТГ-7 Т.2 ValueY\n",
            "94 ЧАСТОТА ВРАЩЕНИЯ ТГ-7 Т.3 Time\n",
            "95 ЧАСТОТА ВРАЩЕНИЯ ТГ-7 Т.3 ValueY\n",
            "96 ЧАСТОТА ВРАЩЕНИЯ ТГ-7 Time\n",
            "97 ЧАСТОТА ВРАЩЕНИЯ ТГ-7 ValueY\n",
            "98 N акт ТГ-7 Time\n",
            "99 N акт ТГ-7 ValueY\n",
            "100 ЧАСТ СЕТИ Time\n",
            "101 ЧАСТ СЕТИ ValueY\n"
          ]
        }
      ]
    },
    {
      "cell_type": "code",
      "source": [
        "#Заполнить пропуски в данных по температурам\n",
        "data_temp = data[[data.columns[86],data.columns[87],data.columns[89]]]\n",
        "data_temp.index = data_temp[data_temp.columns[0]]\n",
        "data_temp = data_temp.resample('10s').mean()\n",
        "data_temp = data_temp.resample('1s').pad()"
      ],
      "metadata": {
        "id": "Ve-cpT0haXm6"
      },
      "execution_count": null,
      "outputs": []
    },
    {
      "cell_type": "markdown",
      "source": [
        "Функция обработки датасета"
      ],
      "metadata": {
        "id": "kqhEFh1Ml4AV"
      }
    },
    {
      "cell_type": "code",
      "source": [
        "def data_submit(data):\n",
        "  data_names = []\n",
        "  for i in range(1,len(data.columns)+1,2):\n",
        "    globals()['data_'+str(i)] = data[[data.columns[i-1],data.columns[i]]]\n",
        "    globals()['data_'+str(i)].index = globals()['data_'+str(i)][globals()['data_'+str(i)].columns[0]]\n",
        "    globals()['data_'+str(i)] = globals()['data_'+str(i)].resample('1s').mean()\n",
        "    data_names.append('data_'+str(i))\n",
        "  data_full = globals()[data_names[0]].merge(globals()[data_names[1]],right_index=True,left_index=True)\n",
        "  for k in range(1,len(data_names)):\n",
        "    data_full = data_full.merge(globals()[data_names[k]],right_index=True,left_index=True,)\n",
        "  return data_full"
      ],
      "metadata": {
        "id": "lbRsKuDgl768"
      },
      "execution_count": null,
      "outputs": []
    },
    {
      "cell_type": "code",
      "source": [
        "data_full = data_submit(data)"
      ],
      "metadata": {
        "id": "ZaUcu9VYFTTF"
      },
      "execution_count": null,
      "outputs": []
    },
    {
      "cell_type": "code",
      "source": [
        "data_full.info()"
      ],
      "metadata": {
        "colab": {
          "base_uri": "https://localhost:8080/"
        },
        "id": "Lh2guo-wUAiV",
        "outputId": "d9b61ac2-6a02-461a-e46e-bbaf7467a070"
      },
      "execution_count": null,
      "outputs": [
        {
          "output_type": "stream",
          "name": "stdout",
          "text": [
            "<class 'pandas.core.frame.DataFrame'>\n",
            "DatetimeIndex: 53984 entries, 2022-08-16 17:00:08 to 2022-08-17 07:59:51\n",
            "Data columns (total 52 columns):\n",
            " #   Column                                 Non-Null Count  Dtype  \n",
            "---  ------                                 --------------  -----  \n",
            " 0   ВИБР В ПЕР ПДШ ТГ-7 ValueY             53313 non-null  float64\n",
            " 1   ВИБР П ПЕР ПДШ ТГ-7 ValueY_x           53112 non-null  float64\n",
            " 2   ВИБР П ПЕР ПДШ ТГ-7 ValueY_y           53112 non-null  float64\n",
            " 3   ВИБР О ПЕР ПДШ ТГ-7 ValueY             52662 non-null  float64\n",
            " 4   ВИБР ВАЛ ПЕР ПДШ ЦВД ТГ-7 Т.1 ValueY   53194 non-null  float64\n",
            " 5   ВИБР ВАЛ ПЕР ПДШ ЦВД ТГ-7 Т.2 ValueY   53380 non-null  float64\n",
            " 6   ВИБР В О УП ПДШ ТГ-7 ValueY            53086 non-null  float64\n",
            " 7   ВИБР П О УП ПДШ ТГ-7 ValueY            52827 non-null  float64\n",
            " 8   ВИБР О О УП ПДШ ТГ-7 ValueY            52859 non-null  float64\n",
            " 9   ВИБР ВАЛА О УП ПДШ ТГ-7 Т.1 ValueY     53744 non-null  float64\n",
            " 10  ВИБР ВАЛА О УП ПДШ ТГ-7 Т.2 ValueY     53731 non-null  float64\n",
            " 11  ВИБР В ПЕР ПДШ ЦСД ТГ-7 ValueY         53503 non-null  float64\n",
            " 12  ВИБР П ПЕР ПДШ ЦСД ТГ-7 ValueY         52956 non-null  float64\n",
            " 13  ВИБР О ПЕР ПДШ ЦСД ТГ-7 ValueY         52487 non-null  float64\n",
            " 14  ВИБР ВАЛ ПЕР ПДШ ЦСД ТГ-7 Т.1 ValueY   53618 non-null  float64\n",
            " 15  ВИБР ВАЛ ПЕР ПДШ ЦСД ТГ-7 Т.2 ValueY   53651 non-null  float64\n",
            " 16  ВИБР В ЗАДН ПДШ ЦСД ТГ-7 ValueY        52963 non-null  float64\n",
            " 17  ВИБР П ЗАДН ПДШ ЦСД ТГ-7 ValueY        52990 non-null  float64\n",
            " 18  ВИБР О ЗАДН ПДШ ЦСД ТГ-7 ValueY        51914 non-null  float64\n",
            " 19  ВИБР ВАЛ ЗАДН ПДШ ЦСД ТГ-7 Т.1 ValueY  53599 non-null  float64\n",
            " 20  ВИБР ВАЛ ЗАДН ПДШ ЦСД ТГ-7 Т.2 ValueY  53693 non-null  float64\n",
            " 21  ВИБР В ПЕР ПДШ ЦНД ТГ-7 ValueY         52790 non-null  float64\n",
            " 22  ВИБР П ПЕР ПДШ ЦНД ТГ-7 ValueY         52825 non-null  float64\n",
            " 23  ВИБР О ПЕР ПДШ ЦНД ТГ-7 ValueY         51509 non-null  float64\n",
            " 24  ВИБР ВАЛ ПЕР ПДШ ЦНД ТГ-7 Т.1 ValueY   53421 non-null  float64\n",
            " 25  ВИБР ВАЛ ПЕР ПДШ ЦНД ТГ-7 Т.2 ValueY   53507 non-null  float64\n",
            " 26  ВИБР В ЗАДН ПДШ ЦНД ТГ-7 ValueY        53084 non-null  float64\n",
            " 27  ВИБР П ЗАДН ПДШ ЦНД ТГ-7 ValueY        52867 non-null  float64\n",
            " 28  ВИБР О ЗАДН ПДШ ЦНД ТГ-7 ValueY        51621 non-null  float64\n",
            " 29  ВИБР ВАЛ ЗАДН ПДШ ЦНД ТГ-7 Т.1 ValueY  53353 non-null  float64\n",
            " 30  ВИБР ВАЛ ЗАДН ПДШ ЦНД ТГ-7 Т.2 ValueY  53567 non-null  float64\n",
            " 31  ВИБР В ПЕР ПДШ Г-7 ValueY              53329 non-null  float64\n",
            " 32  ВИБР П ПЕР ПДШ Г-7 ValueY              52567 non-null  float64\n",
            " 33  ВИБР О ПЕР ПДШ Г-7 ValueY              51841 non-null  float64\n",
            " 34  ВИБР ВАЛ ПЕР ПДШ Г-7 Т.1 ValueY        53429 non-null  float64\n",
            " 35  ВИБР ВАЛ ПЕР ПДШ Г-7 Т.2 ValueY        53620 non-null  float64\n",
            " 36  ВИБР В ЗАДН ПДШ Г-7 ValueY             52821 non-null  float64\n",
            " 37  ВИБР П ЗАДН ПДШ Г-7 ValueY             52515 non-null  float64\n",
            " 38  ВИБР О ЗАДН ПДШ Г-7 ValueY             52382 non-null  float64\n",
            " 39  ВИБР ВАЛ ЗАДН ПДШ Г-7 Т.1 ValueY       53448 non-null  float64\n",
            " 40  ВИБР ВАЛ ЗАДН ПДШ Г-7 Т.2 ValueY       53478 non-null  float64\n",
            " 41  T МСЛ СМАЗКИ ПДШ ТГ-7 Т.1 ValueY       5999 non-null   float64\n",
            " 42  T МСЛ СМАЗКИ ПДШ ТГ-7 Т.2 ValueY       5999 non-null   float64\n",
            " 43  T МСЛ СМАЗКИ ПДШ ТГ-7 Т.3 ValueY       5999 non-null   float64\n",
            " 44  T МСЛ СМАЗКИ ПДШ ТГ-7 ValueY           5999 non-null   float64\n",
            " 45  T МСЛ СЛИВ ПЕР ПДШ Г-7 ValueY          5998 non-null   float64\n",
            " 46  ЧАСТОТА ВРАЩЕНИЯ ТГ-7 Т.1 ValueY       52258 non-null  float64\n",
            " 47  ЧАСТОТА ВРАЩЕНИЯ ТГ-7 Т.2 ValueY       52244 non-null  float64\n",
            " 48  ЧАСТОТА ВРАЩЕНИЯ ТГ-7 Т.3 ValueY       52226 non-null  float64\n",
            " 49  ЧАСТОТА ВРАЩЕНИЯ ТГ-7 ValueY           53594 non-null  float64\n",
            " 50  N акт ТГ-7 ValueY                      53942 non-null  float64\n",
            " 51  ЧАСТ СЕТИ ValueY                       29311 non-null  float64\n",
            "dtypes: float64(52)\n",
            "memory usage: 21.8 MB\n"
          ]
        }
      ]
    },
    {
      "cell_type": "markdown",
      "source": [
        "##Функция построения многоосевой диаграммы"
      ],
      "metadata": {
        "id": "dDXY8-MNF_Ms"
      }
    },
    {
      "cell_type": "code",
      "source": [
        "#Функция построения многоосевой диаграммы\n",
        "def diagram(data,vibration_speed,vibration_move,d_name,data_temp,temperature = [0,1],speed = 49,power=50,):\n",
        "  fig = go.Figure( )\n",
        "  \n",
        "  #Собственно отрисовка графиков\n",
        "  fig.add_trace(go.Scatter(\n",
        "      x=data.index,\n",
        "      y=data[data.columns[speed]],\n",
        "      name='Частота вращения'\n",
        "  ))\n",
        "  #Виброскорость\n",
        "  for i in vibration_speed:\n",
        "    fig.add_trace(go.Scatter(\n",
        "      x=data.index,\n",
        "      y=data[data.columns[i]],\n",
        "      name=str(data.columns[i]),\n",
        "      yaxis=\"y2\"\n",
        "    ))\n",
        "  #Виброперемещение вала\n",
        "  for i in vibration_move:\n",
        "    fig.add_trace(go.Scatter(\n",
        "      x=data.index,\n",
        "      y=data[data.columns[i]],\n",
        "      name=str(data.columns[i]),\n",
        "      yaxis=\"y3\"\n",
        "    ))\n",
        "  #Температуры масла\n",
        "  for i in temperature:\n",
        "    fig.add_trace(go.Scatter(\n",
        "      x=data.index,\n",
        "      y=data_temp[data_temp.columns[i]],\n",
        "      name=str(data_temp.columns[i]),\n",
        "      yaxis=\"y4\"\n",
        "    ))\n",
        "  #Мощность\n",
        "  fig.add_trace(go.Scatter(\n",
        "      x=data.index,\n",
        "      y=data[data.columns[power]],\n",
        "      name=str(data.columns[power]),\n",
        "      yaxis=\"y5\"\n",
        "    ))\n",
        "  # Create axis objects\n",
        "  fig.update_layout(\n",
        "      xaxis=dict(\n",
        "          domain=[0.029, 0.95] #Задать область, которую занимает поле диаграммы\n",
        "      ),\n",
        "      yaxis=dict(\n",
        "          title='Частота вращения',\n",
        "          titlefont=dict(\n",
        "              color=\"#1f77b4\"\n",
        "          ),\n",
        "          tickfont=dict(\n",
        "              color=\"#1f77b4\"\n",
        "          )\n",
        "      ),\n",
        "      yaxis2=dict(\n",
        "        title=\"Виброскорость\",\n",
        "        titlefont=dict(\n",
        "            color=\"#ff7f0e\"\n",
        "        ),\n",
        "        tickfont=dict(\n",
        "            color=\"#ff7f0e\"\n",
        "        ),\n",
        "        anchor=\"free\",\n",
        "        overlaying=\"y\",\n",
        "        side=\"left\",\n",
        "        position=0\n",
        "    ),\n",
        "    yaxis3=dict(\n",
        "        title=\"Виброперемещение вала\",\n",
        "        titlefont=dict(\n",
        "            color=\"#d62728\"\n",
        "        ),\n",
        "        tickfont=dict(\n",
        "            color=\"#d62728\"\n",
        "        ),\n",
        "        anchor=\"x\",\n",
        "        overlaying=\"y\",\n",
        "        side=\"right\"\n",
        "    ),\n",
        "    yaxis4=dict(\n",
        "        title=\"Температура масла\",\n",
        "        titlefont=dict(\n",
        "            color=\"#9467bd\"\n",
        "        ),\n",
        "        tickfont=dict(\n",
        "            color=\"#9467bd\"\n",
        "        ),\n",
        "        anchor=\"free\",\n",
        "        overlaying=\"y\",\n",
        "        side=\"right\",\n",
        "        position=0.975\n",
        "    ),\n",
        "    yaxis5=dict(\n",
        "        title=\"Мощность\",\n",
        "        titlefont=dict(\n",
        "            color=\"#60bba8\"\n",
        "        ),\n",
        "        tickfont=dict(\n",
        "            color=\"#60bba8\"\n",
        "        ),\n",
        "        anchor=\"free\",\n",
        "        overlaying=\"y\",\n",
        "        side=\"right\",\n",
        "        position=1\n",
        "    ),\n",
        "\n",
        "  )\n",
        "\n",
        "  # Update layout properties\n",
        "  fig.update_layout(\n",
        "    title_text=d_name, \n",
        "    title_x = 0.5,\n",
        "    title_y = 0.95,\n",
        "    width=2500, height=900,\n",
        "    margin=dict(l=0, r=0, t=100, b=0), #Уменьшение полей до нуля\n",
        "    legend_orientation='h', #Легенда горизонтально\n",
        "    legend=dict(x=.5, xanchor=\"center\"),#расположение подписи по центру\n",
        "    hovermode=\"x\",#Подсветка значений по Х\n",
        "  )\n",
        "  fig.write_html(\"/content/drive/MyDrive/Colab Notebooks/Minsk_082022/\"+d_name+\".html\") #Записать график в файл html\n",
        "  #py.offline.plot(fig,filename='/content/drive/MyDrive/Colab Notebooks/Minsk_082022' +d_name)\n",
        "  fig.show()"
      ],
      "metadata": {
        "id": "weuk4T_2-Q-E"
      },
      "execution_count": null,
      "outputs": []
    },
    {
      "cell_type": "code",
      "source": [
        "V_P_1 = [0,1,2]\n",
        "V_V_1 = [4,5]\n",
        "V_P_2 = [6,7,8]\n",
        "V_V_2 = [9,10]\n",
        "V_P_3 = [11,12,13]\n",
        "V_V_3 = [14,15]\n",
        "V_P_4 = [16,17,18]\n",
        "V_V_4 = [19,20]\n",
        "V_P_5 = [21,22,23]\n",
        "V_V_5 = [24,25]\n",
        "V_P_6 = [26,27,28]\n",
        "V_V_6 = [29,30]\n",
        "V_P_7 = [31,32,33]\n",
        "V_V_7 = [34,35]\n",
        "V_P_8 = [36,37,38]\n",
        "V_V_8 = [39,40] "
      ],
      "metadata": {
        "id": "MIFeTY47Gsa7"
      },
      "execution_count": null,
      "outputs": []
    },
    {
      "cell_type": "code",
      "source": [
        "diagram(data_full,vibration_speed=V_P_1,vibration_move=V_V_1,data_temp = data_temp,temperature = [0,1],speed=49,d_name='Передний подшипник');"
      ],
      "metadata": {
        "id": "PbCpls8XbHw6"
      },
      "execution_count": null,
      "outputs": []
    },
    {
      "cell_type": "code",
      "source": [
        "diagram(data_full,vibration_speed=V_P_8,vibration_move=V_V_8,data_temp = data_temp,temperature = [0,1],speed=49,d_name='Задний подшипник генератора')"
      ],
      "metadata": {
        "id": "Z9MqTX95b973"
      },
      "execution_count": null,
      "outputs": []
    },
    {
      "cell_type": "code",
      "source": [
        "diagram(data_full,vibration_speed=V_P_7,vibration_move=V_V_7,data_temp = data_temp,temperature = [0,1],speed=49,d_name='Передний подшипник генератора')"
      ],
      "metadata": {
        "id": "pF6lFzBnLFyT"
      },
      "execution_count": null,
      "outputs": []
    },
    {
      "cell_type": "code",
      "source": [
        "diagram(data_full,vibration_speed=V_P_6,vibration_move=V_V_6,data_temp = data_temp,temperature = [0,1],speed=49,d_name='Задний подшипник ЦНД')"
      ],
      "metadata": {
        "id": "_YMDKgx1ORHx"
      },
      "execution_count": null,
      "outputs": []
    },
    {
      "cell_type": "code",
      "source": [
        "diagram(data_full,vibration_speed=V_P_5,vibration_move=V_V_5,data_temp = data_temp,temperature = [0,1],speed=49,d_name='Передний подшипник ЦНД')"
      ],
      "metadata": {
        "id": "SiJL8h-3Nu2E"
      },
      "execution_count": null,
      "outputs": []
    },
    {
      "cell_type": "code",
      "source": [
        "diagram(data_full,vibration_speed=V_P_4,vibration_move=V_V_4,data_temp = data_temp,temperature = [0,1],speed=49,d_name='Задний подшипник ЦСД')"
      ],
      "metadata": {
        "id": "Mn_0o8dQOQxZ"
      },
      "execution_count": null,
      "outputs": []
    },
    {
      "cell_type": "code",
      "source": [
        "diagram(data_full,vibration_speed=V_P_3,vibration_move=V_V_3,data_temp = data_temp,temperature = [0,1],speed=49,d_name='Передний подшипник ЦСД')"
      ],
      "metadata": {
        "id": "BBkPOuZaOQsQ"
      },
      "execution_count": null,
      "outputs": []
    },
    {
      "cell_type": "code",
      "source": [
        "diagram(data_full,vibration_speed=V_P_2,vibration_move=V_V_2,data_temp = data_temp,temperature = [0,1],speed=49,d_name='Задний подшипник ЦВД')"
      ],
      "metadata": {
        "id": "oVpu5MUHOiDr"
      },
      "execution_count": null,
      "outputs": []
    }
  ]
}